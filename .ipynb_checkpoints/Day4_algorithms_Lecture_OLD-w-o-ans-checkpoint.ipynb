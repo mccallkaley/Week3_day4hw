{
 "cells": [
  {
   "cell_type": "markdown",
   "metadata": {},
   "source": [
    "# Algorithms, Binary Search & Linked Lists"
   ]
  },
  {
   "cell_type": "markdown",
   "metadata": {},
   "source": [
    "## Tasks Today:\n",
    " \n",
    "1) <b>In-Place Algorithms</b> <br>\n",
    " &nbsp;&nbsp;&nbsp;&nbsp; a) Syntax <br>\n",
    " &nbsp;&nbsp;&nbsp;&nbsp; a) Out of Place Algorithm <br>\n",
    " &nbsp;&nbsp;&nbsp;&nbsp; b) In-Class Exercise #1 <br>\n",
    "2) <b>Two Pointers</b> <br>\n",
    "3) <b>Linked Lists</b> <br>\n",
    "4) <b>Merge Sort</b> <br>\n",
    " &nbsp;&nbsp;&nbsp;&nbsp; a) Video on Algorithms <br>\n",
    " &nbsp;&nbsp;&nbsp;&nbsp; b) How it Works <br>\n",
    "5) <b>Exercises</b> <br>\n",
    " &nbsp;&nbsp;&nbsp;&nbsp; a) Exercise #1 - Reverse a List in Place Using an In-Place Algorithm <br>\n",
    " &nbsp;&nbsp;&nbsp;&nbsp; b) Exercise #2 - Find Distinct Words <br>\n",
    " &nbsp;&nbsp;&nbsp;&nbsp; c) Exercise #3 - Write a program to implement a Linear Search Algorithm. <br>"
   ]
  },
  {
   "cell_type": "markdown",
   "metadata": {},
   "source": [
    "## In-Place Algorithms"
   ]
  },
  {
   "cell_type": "markdown",
   "metadata": {},
   "source": [
    "#### Syntax"
   ]
  },
  {
   "cell_type": "code",
   "execution_count": 1,
   "metadata": {},
   "outputs": [
    {
     "name": "stdout",
     "output_type": "stream",
     "text": [
      "outage\n"
     ]
    }
   ],
   "source": [
    "#WHITE BOARD\n",
    "\n",
    "def electric(x):\n",
    "        function = 0\n",
    "        for i in x:\n",
    "            if i.lower() == \"f\":\n",
    "                function += 1\n",
    "        if function >= 2:\n",
    "            print(\"outage\")\n",
    "        else:\n",
    "            print(\"power\")\n",
    "electric([\"f\", \"f\" , \"f\"])"
   ]
  },
  {
   "cell_type": "code",
   "execution_count": 2,
   "metadata": {},
   "outputs": [
    {
     "name": "stdout",
     "output_type": "stream",
     "text": [
      "[4, 5, 7, 23, 76, 77, 234, 7345]\n"
     ]
    }
   ],
   "source": [
    "#IN PLACE ALGO  #this sort changes the list moved everything around not taking up any more space \n",
    "\n",
    "my_list = [76,234,7345,23,4,5,77,7]\n",
    "\n",
    "my_list.sort()    #sort works in place sorted works in OUT of place\n",
    "print(my_list)"
   ]
  },
  {
   "cell_type": "code",
   "execution_count": 1,
   "metadata": {},
   "outputs": [
    {
     "data": {
      "text/plain": [
       "[3, 2, 1]"
      ]
     },
     "execution_count": 1,
     "metadata": {},
     "output_type": "execute_result"
    }
   ],
   "source": [
    "l = [1,2,3]\n",
    "l.reverse()\n",
    "l"
   ]
  },
  {
   "cell_type": "code",
   "execution_count": 3,
   "metadata": {},
   "outputs": [
    {
     "data": {
      "text/plain": [
       "3"
      ]
     },
     "execution_count": 3,
     "metadata": {},
     "output_type": "execute_result"
    }
   ],
   "source": [
    "x, y = 1 , 3\n",
    "x, y = y, x #saves use time and space\n",
    "z=x\n",
    "x=y\n",
    "y=z\n",
    "z"
   ]
  },
  {
   "cell_type": "code",
   "execution_count": 8,
   "metadata": {},
   "outputs": [],
   "source": [
    "#going to swap indexes   #left side replaces right side LEFT IS NEW POSITIONS\n",
    "def swap(alist, x, y, z):    \n",
    "    alist[x], alist[y], alist[z] = alist[z], alist[y], alist[x]\n",
    "    return alist \n",
    "\n"
   ]
  },
  {
   "cell_type": "code",
   "execution_count": 9,
   "metadata": {},
   "outputs": [
    {
     "name": "stdout",
     "output_type": "stream",
     "text": [
      "before swap  [20, 4, 10]\n",
      "after swap [10, 4, 20]\n"
     ]
    }
   ],
   "source": [
    "def swap(alist,x,y,z):\n",
    "    alist[x],alist[y],alist[z] = alist[z],alist[y],alist[x]\n",
    "    return alist\n",
    "my_list = [20,4,10]\n",
    "print(\"before swap \",my_list)\n",
    "swap(my_list,0,2,2)\n",
    "print(\"after swap\",my_list)"
   ]
  },
  {
   "cell_type": "markdown",
   "metadata": {},
   "source": [
    "#### Out of Place Algorithm"
   ]
  },
  {
   "cell_type": "code",
   "execution_count": 12,
   "metadata": {},
   "outputs": [
    {
     "name": "stdout",
     "output_type": "stream",
     "text": [
      "[4, 5, 7, 23, 76, 77, 234, 7345]\n"
     ]
    }
   ],
   "source": [
    "my_list2 = [76,234,7345,23,4,5,77,7]  #creating a new list so more space\n",
    "\n",
    "my_list2 = sorted(my_list2)\n",
    "print(my_list2)"
   ]
  },
  {
   "cell_type": "code",
   "execution_count": 17,
   "metadata": {},
   "outputs": [
    {
     "ename": "NameError",
     "evalue": "name 'my_list_rev' is not defined",
     "output_type": "error",
     "traceback": [
      "\u001b[1;31m---------------------------------------------------------------------------\u001b[0m",
      "\u001b[1;31mNameError\u001b[0m                                 Traceback (most recent call last)",
      "\u001b[1;32m<ipython-input-17-10865406804f>\u001b[0m in \u001b[0;36m<module>\u001b[1;34m\u001b[0m\n\u001b[0;32m      4\u001b[0m \u001b[0mmy_list\u001b[0m \u001b[1;33m=\u001b[0m \u001b[1;33m[\u001b[0m\u001b[1;36m20\u001b[0m\u001b[1;33m,\u001b[0m\u001b[1;36m4\u001b[0m\u001b[1;33m,\u001b[0m\u001b[1;36m10\u001b[0m\u001b[1;33m]\u001b[0m\u001b[1;33m\u001b[0m\u001b[1;33m\u001b[0m\u001b[0m\n\u001b[0;32m      5\u001b[0m \u001b[1;33m\u001b[0m\u001b[0m\n\u001b[1;32m----> 6\u001b[1;33m \u001b[0mprint\u001b[0m\u001b[1;33m(\u001b[0m\u001b[0mmy_list_rev\u001b[0m\u001b[1;33m)\u001b[0m\u001b[1;33m\u001b[0m\u001b[1;33m\u001b[0m\u001b[0m\n\u001b[0m",
      "\u001b[1;31mNameError\u001b[0m: name 'my_list_rev' is not defined"
     ]
    }
   ],
   "source": [
    "def rev(my_list):\n",
    "    my_list_rev = my_list[::-1]   # -1 (1 is one step and negative means count backwards)\n",
    "    return my_list_rev\n",
    "my_list = [20,4,10]\n",
    "\n",
    "print(my_list_rev)"
   ]
  },
  {
   "cell_type": "code",
   "execution_count": 9,
   "metadata": {},
   "outputs": [
    {
     "name": "stdout",
     "output_type": "stream",
     "text": [
      "[10, 4, 20]\n",
      "[20, 4, 10]\n"
     ]
    }
   ],
   "source": [
    "my_list = [20,4,10]\n",
    "#without swapping but it uses space because use a new varible\n",
    "my_list_rev = my_list [::-1]\n",
    "print(my_list_rev)\n",
    "print(my_list)"
   ]
  },
  {
   "cell_type": "code",
   "execution_count": 1,
   "metadata": {},
   "outputs": [
    {
     "name": "stdout",
     "output_type": "stream",
     "text": [
      "['d', 'c', 'b', 'a']\n"
     ]
    }
   ],
   "source": [
    "array = ['a','b','c','d']\n",
    "new_array = ['X']*len(array)\n",
    "new_array\n",
    "\n",
    "length = len(array) - 1\n",
    "\n",
    "            # 4-1 = 3 so [0,1,2]\n",
    "for i in range(length):\n",
    "    new_array[i] = array[length-i]\n",
    "    #new_array[0] = array[(4-1)-0]\n",
    "    # new_array[0] = array[3]\n",
    "    #if we didn't do len(array) -1 \n",
    "    #new_array[3] = array[4-1-3]\n",
    "new_array[length]=array[0]\n",
    "print(new_array)\n",
    "    \n"
   ]
  },
  {
   "cell_type": "markdown",
   "metadata": {},
   "source": [
    "#### In-Class Exercise #1 <br>\n",
    "<p>Write a function that takes in four arguments (list, index1, index2, index3), and swaps those three positions in the list passed in.</p>"
   ]
  },
  {
   "cell_type": "code",
   "execution_count": null,
   "metadata": {},
   "outputs": [],
   "source": [
    "\n",
    "def swap(alist, x, y, z):    \n",
    "    alist[x], alist[y], alist[z] = alist[z], alist[y], alist[x]\n",
    "    return alist "
   ]
  },
  {
   "cell_type": "markdown",
   "metadata": {},
   "source": [
    "## Two Pointers"
   ]
  },
  {
   "cell_type": "markdown",
   "metadata": {},
   "source": [
    "#### Syntax"
   ]
  },
  {
   "cell_type": "code",
   "execution_count": null,
   "metadata": {},
   "outputs": [],
   "source": []
  },
  {
   "cell_type": "code",
   "execution_count": 19,
   "metadata": {},
   "outputs": [
    {
     "name": "stdout",
     "output_type": "stream",
     "text": [
      "[1, 2, 3, 12, 9, 8, 11, 22]\n"
     ]
    }
   ],
   "source": [
    "# we can use two pointer to swap varibles and you can use a while loop in most case #SWAPPED EVEYTHING AND BROUGHT IT BACK\n",
    "# alist[left], alist[right] = alist[right], alist[left]\n",
    "\n",
    "def two_pointers(alist):\n",
    "    left = 0\n",
    "    right = len(alist)-1\n",
    "    while left >= right:\n",
    "        alist[left],alist[right] = alist[right],alist[left]\n",
    "        left += 1\n",
    "        right -= 1\n",
    "    return alist\n",
    "\n",
    "my_list2 = [1,2,3,12,9,8,11,22]\n",
    "print(two_pointers(my_list2))\n"
   ]
  },
  {
   "cell_type": "markdown",
   "metadata": {},
   "source": [
    "#### Video of Algorithms <br>\n",
    "<p>Watch the video about algorithms.</p>\n",
    "\n",
    "https://www.youtube.com/watch?v=Q9HjeFD62Uk\n",
    "\n",
    "https://www.youtube.com/watch?v=kPRA0W1kECg\n",
    "\n",
    "https://www.youtube.com/watch?v=ZZuD6iUe3Pc"
   ]
  },
  {
   "cell_type": "markdown",
   "metadata": {},
   "source": [
    "# Sorting Algorithms"
   ]
  },
  {
   "cell_type": "markdown",
   "metadata": {},
   "source": [
    "#### Bubble Sort\n",
    "\n",
    "Worst Case: O(n^2) Time - O(1) Space"
   ]
  },
  {
   "cell_type": "code",
   "execution_count": 20,
   "metadata": {},
   "outputs": [
    {
     "data": {
      "text/plain": [
       "[1, 22, 34, 44, 55, 66, 88, 100]"
      ]
     },
     "execution_count": 20,
     "metadata": {},
     "output_type": "execute_result"
    }
   ],
   "source": [
    "# 0(n)  _LINEAR\n",
    "\n",
    "def swap(i,j,array):\n",
    "    array[i], array[j] = array[j],array[i]\n",
    "    \n",
    "def bubble_sort(array):\n",
    "    is_sorted = False\n",
    "    while not is_sorted:   #keep repeating \n",
    "        is_sorted = True\n",
    "        for num in range(len(array)-1): #looping over all indexes of array so num is index\n",
    "            if array[num] > array[num + 1]:\n",
    "                swap(num, num+1, array)\n",
    "                is_sorted = False    # if  this is the case we know we dont have a sorted list so false\n",
    "    return array\n",
    "\n",
    "bubble_sort([22,55,88,44,1,100,34,66])\n",
    "        \n",
    "    "
   ]
  },
  {
   "cell_type": "code",
   "execution_count": 21,
   "metadata": {},
   "outputs": [
    {
     "data": {
      "text/plain": [
       "[1, 22, 34, 44, 55, 66, 88, 100]"
      ]
     },
     "execution_count": 21,
     "metadata": {},
     "output_type": "execute_result"
    }
   ],
   "source": [
    "# Best Case O(n) -linear\n",
    "def swap(i,j,array):\n",
    "    array[i], array[j] = array[j],array[i]\n",
    "\n",
    "def bubble_sort(array):\n",
    "    is_sorted = False\n",
    "    while not is_sorted:\n",
    "        is_sorted = True\n",
    "        for num in range(len(array)-1):\n",
    "            if array[num] > array[num + 1]:    #so index plus 1 is moving to next place in index\n",
    "                swap(num, num+1, array)\n",
    "                is_sorted = False\n",
    "    return array\n",
    "bubble_sort([22,55,88,44,1,100,34,66])"
   ]
  },
  {
   "cell_type": "markdown",
   "metadata": {},
   "source": [
    "##### Insertion Sort\n",
    "\n",
    "Worst Case: O(n^2) time - O(1)space"
   ]
  },
  {
   "cell_type": "code",
   "execution_count": 24,
   "metadata": {},
   "outputs": [
    {
     "data": {
      "text/plain": [
       "[1, 22, 34, 44, 55, 66, 88, 100]"
      ]
     },
     "execution_count": 24,
     "metadata": {},
     "output_type": "execute_result"
    }
   ],
   "source": [
    "def swap(i,j,array):\n",
    "    array[i], array[j] = array[j],array[i]\n",
    "    \n",
    "def insertion_sort(array):\n",
    "    for i in range(1,len(array)):\n",
    "        j=i\n",
    "        while j > 0 and array[j]<array[j-1]:    #looking at list going from right to left and comparing\n",
    "            swap(j, j-1,array)\n",
    "            j -= 1\n",
    "    return array\n",
    "insertion_sort([22,55,88,44,1,100,34,66])"
   ]
  },
  {
   "cell_type": "code",
   "execution_count": 25,
   "metadata": {},
   "outputs": [
    {
     "data": {
      "text/plain": [
       "[1, 22, 34, 44, 55, 66, 88, 100]"
      ]
     },
     "execution_count": 25,
     "metadata": {},
     "output_type": "execute_result"
    }
   ],
   "source": [
    "def swap(i,j,array):\n",
    "    array[i], array[j] = array[j],array[i]\n",
    "\n",
    "def insertion_sort(array):\n",
    "    for i in range(1,len(array)):\n",
    "        j=i\n",
    "        while j > 0 and array[j] < array[j -1]:\n",
    "            swap(j, j-1, array)\n",
    "            j -= 1\n",
    "    return array\n",
    "insertion_sort([22,55,88,44,1,100,34,66])"
   ]
  },
  {
   "cell_type": "markdown",
   "metadata": {},
   "source": [
    "## Merge Sort"
   ]
  },
  {
   "cell_type": "markdown",
   "metadata": {},
   "source": [
    "#### How it Works"
   ]
  },
  {
   "cell_type": "code",
   "execution_count": 29,
   "metadata": {},
   "outputs": [
    {
     "name": "stdout",
     "output_type": "stream",
     "text": [
      "splitting, alist\n",
      "splitting, alist\n",
      "splitting, alist\n",
      "splitting, alist\n",
      "splitting, alist\n",
      "Merging:  [22, 55]\n",
      "splitting, alist\n",
      "splitting, alist\n",
      "splitting, alist\n",
      "Merging:  [44, 88]\n",
      "Merging:  [22, 44, 55, 88]\n",
      "splitting, alist\n",
      "splitting, alist\n",
      "splitting, alist\n",
      "splitting, alist\n",
      "Merging:  [1, 100]\n",
      "splitting, alist\n",
      "splitting, alist\n",
      "splitting, alist\n",
      "Merging:  [34, 66]\n",
      "Merging:  [1, 34, 66, 100]\n",
      "Merging:  [1, 22, 34, 44, 55, 66, 88, 100]\n"
     ]
    },
    {
     "data": {
      "text/plain": [
       "[1, 22, 34, 44, 55, 66, 88, 100]"
      ]
     },
     "execution_count": 29,
     "metadata": {},
     "output_type": "execute_result"
    }
   ],
   "source": [
    "# Step 1: split everything into its own groups\n",
    "# Step 2: From left to right merge the two groups together\n",
    "# Step 3: While merging, plave each item in the correct position whithin the merged group\n",
    "# Step 4: Continue Steps 3-4 until one group is left\n",
    "\n",
    "def merge_sort(alist):\n",
    "    print(\"splitting, alist\")\n",
    "    if len(alist)<=1:\n",
    "        return alist\n",
    "    #step 1\n",
    "    mid = len(alist) // 2 \n",
    "    lefthalf = alist[:mid]\n",
    "    righthalf = alist[mid:]\n",
    "    #recursively call mergesort to perform the splits if needed\n",
    "    merge_sort(lefthalf)\n",
    "    merge_sort(righthalf)\n",
    "    \n",
    "    # index pointers for our list\n",
    "    i = 0   # left half\n",
    "    j = 0   # right half\n",
    "    k = 0   # position in main array \n",
    "    \n",
    "    # Step 2 comparing two halfs - each half should be two things\n",
    "    while i <len(lefthalf) and j < len(righthalf):\n",
    "        if lefthalf[i]< righthalf[j]:\n",
    "            alist[k]=lefthalf[i]\n",
    "            i+=1\n",
    "        else:\n",
    "            alist[k] = righthalf[j]\n",
    "            j+=1   #this is incrementing it by 1\n",
    "        k+=1\n",
    "        \n",
    "        #step 3\n",
    "    while i <len(lefthalf):\n",
    "        alist[k] = lefthalf[i]\n",
    "        i+= 1\n",
    "        k+= 1\n",
    "    while j < len(righthalf):\n",
    "        alist[k]=righthalf[j]\n",
    "        j+=1\n",
    "        k+=1\n",
    "    print(\"Merging: \", alist)\n",
    "    return alist\n",
    "\n",
    "merge_sort([22,55,88,44,1,100,34,66])\n",
    "    \n"
   ]
  },
  {
   "cell_type": "code",
   "execution_count": 30,
   "metadata": {},
   "outputs": [
    {
     "data": {
      "text/plain": [
       "[12, 17, 4, 6, 7]"
      ]
     },
     "execution_count": 30,
     "metadata": {},
     "output_type": "execute_result"
    }
   ],
   "source": [
    "from random import randint\n",
    "nums = [randint(0,20) for i in range(5)]\n",
    "nums"
   ]
  },
  {
   "cell_type": "code",
   "execution_count": 31,
   "metadata": {},
   "outputs": [
    {
     "name": "stdout",
     "output_type": "stream",
     "text": [
      "splitting [12, 17, 4, 6, 7]\n",
      "splitting [12, 17]\n",
      "splitting [12]\n",
      "splitting [17]\n",
      "Merging:  [12, 17]\n",
      "splitting [4, 6, 7]\n",
      "splitting [4]\n",
      "splitting [6, 7]\n",
      "splitting [6]\n",
      "splitting [7]\n",
      "Merging:  [6, 7]\n",
      "Merging:  [4, 6, 7]\n",
      "Merging:  [4, 6, 7, 12, 17]\n"
     ]
    },
    {
     "data": {
      "text/plain": [
       "[4, 6, 7, 12, 17]"
      ]
     },
     "execution_count": 31,
     "metadata": {},
     "output_type": "execute_result"
    }
   ],
   "source": [
    "# Step 1: Split everything into its own group\n",
    "# Step 2: From left to right merge the two groups together\n",
    "# Step 3: While merging, place each item in the correct position within the merged group\n",
    "# Step 4: Continue Steap 3-4 until one group is left\n",
    "\n",
    "def merge_sort(alist):\n",
    "    print(\"splitting\", alist)\n",
    "    if len(alist)<=1:\n",
    "        return alist\n",
    "    #Step 1\n",
    "    mid = len(alist) // 2\n",
    "    lefthalf = alist[:mid]\n",
    "    righthalf = alist[mid:]\n",
    "    \n",
    "    #recursively call mergesort to perform the splits if needed\n",
    "    merge_sort(lefthalf)\n",
    "    merge_sort(righthalf)\n",
    "    \n",
    "    # index pointers for out list\n",
    "    i = 0  # left half\n",
    "    j = 0  # for the right half\n",
    "    k = 0  # for the main array\n",
    "    \n",
    "    # Step 2 Comparing the two halfs\n",
    "    while i < len(lefthalf) and j < len(righthalf):\n",
    "        if lefthalf[i] < righthalf[j]:\n",
    "            alist[k] = lefthalf[i]\n",
    "            i = i + 1\n",
    "        else:\n",
    "            alist[k] = righthalf[j]\n",
    "            j=j+1\n",
    "        k = k+1\n",
    "    #Step 3 While merging place items in correct positions\n",
    "    while i < len(lefthalf):\n",
    "        alist[k] = lefthalf[i]\n",
    "        i = i + 1 \n",
    "        k = k + 1\n",
    "    while j < len(righthalf):\n",
    "        alist[k] = righthalf[j]\n",
    "        j = j + 1\n",
    "        k = k + 1\n",
    "    print(\"Merging: \", alist)\n",
    "    return alist\n",
    "\n",
    "merge_sort(nums)    "
   ]
  },
  {
   "cell_type": "markdown",
   "metadata": {},
   "source": [
    "# Binary Search\n",
    "\n",
    "The Binary Search algorithm works by finding the number in the middle of a given array and comparing it to the target. Given that the array is sorted\n",
    "\n",
    "* The worst case run time for this algorithm is `O(log(n))`"
   ]
  },
  {
   "cell_type": "code",
   "execution_count": 32,
   "metadata": {},
   "outputs": [
    {
     "data": {
      "text/plain": [
       "-1"
      ]
     },
     "execution_count": 32,
     "metadata": {},
     "output_type": "execute_result"
    }
   ],
   "source": [
    "# Less => left\n",
    "# more => right\n",
    "# LIST MUST BE SORTED \n",
    "\n",
    "def binary_search_helper(array, target, left, right):\n",
    "    while left <= right:\n",
    "        middle = (left + right) // 2\n",
    "        potential_match = array[middle]\n",
    "        if target == potential_match:\n",
    "            return f\"the index is {middle}\"\n",
    "        elif target < potential_match:\n",
    "            right = right - 1\n",
    "        else:\n",
    "             left = left + 1\n",
    "    return -1\n",
    "\n",
    "def binary_search(array, target):\n",
    "    return binary_search_helper(array,target,0,len(array)-1)\n",
    "\n",
    "binary_search([22,33,44,55,66,77,88,99],51)\n",
    "\n"
   ]
  },
  {
   "cell_type": "markdown",
   "metadata": {},
   "source": [
    "# Exercises"
   ]
  },
  {
   "cell_type": "markdown",
   "metadata": {},
   "source": [
    "### Exercise #1 <br>\n",
    "<p>Reverse the list below in-place using an in-place algorithm.<br>For extra credit: Reverse the strings at the same time.</p>"
   ]
  },
  {
   "cell_type": "code",
   "execution_count": null,
   "metadata": {},
   "outputs": [],
   "source": []
  },
  {
   "cell_type": "code",
   "execution_count": 34,
   "metadata": {},
   "outputs": [
    {
     "name": "stdout",
     "output_type": "stream",
     "text": [
      "Reversed list: ['.', 'sentence', 'a', 'is', 'this']\n"
     ]
    }
   ],
   "source": [
    "# reverse() is a list data type method that reverses the elements of the list in-place. --in place bc modifies list\n",
    "# This method modifies the original list rather than creating a new one.   \n",
    "\n",
    "\n",
    "words = ['this' , 'is', 'a', 'sentence', '.']\n",
    "\n",
    "words.reverse()\n",
    "\n",
    "print('Reversed list:',words)\n"
   ]
  },
  {
   "cell_type": "markdown",
   "metadata": {},
   "source": [
    "### Exercise #2 <br>\n",
    "<p>Create a function that counts how many distinct words are in the string below, then outputs a dictionary with the words as the key and the value as the amount of times that word appears in the string.<br>Should output:<br>{'a': 5,<br>\n",
    " 'abstract': 1,<br>\n",
    " 'an': 3,<br>\n",
    " 'array': 2, ... etc...</p>"
   ]
  },
  {
   "cell_type": "code",
   "execution_count": null,
   "metadata": {},
   "outputs": [],
   "source": []
  },
  {
   "cell_type": "code",
   "execution_count": null,
   "metadata": {},
   "outputs": [],
   "source": []
  },
  {
   "cell_type": "code",
   "execution_count": 40,
   "metadata": {},
   "outputs": [
    {
     "data": {
      "text/plain": [
       "{'in': 1,\n",
       " 'computing,': 1,\n",
       " 'a': 5,\n",
       " 'hash': 4,\n",
       " 'table': 2,\n",
       " 'map': 2,\n",
       " 'is': 1,\n",
       " 'data': 2,\n",
       " 'structure': 2,\n",
       " 'which': 2,\n",
       " 'implements': 1,\n",
       " 'an': 3,\n",
       " 'associative': 1,\n",
       " 'array': 2,\n",
       " 'abstract': 1,\n",
       " 'type,': 1,\n",
       " 'that': 1,\n",
       " 'can': 2,\n",
       " 'keys': 1,\n",
       " 'to': 2,\n",
       " 'values.': 1,\n",
       " 'uses': 1,\n",
       " 'function': 1,\n",
       " 'compute': 1,\n",
       " 'index': 1,\n",
       " 'into': 1,\n",
       " 'of': 1,\n",
       " 'buckets': 1,\n",
       " 'or': 1,\n",
       " 'slots': 1,\n",
       " 'from': 1,\n",
       " 'the': 1,\n",
       " 'desired': 1,\n",
       " 'value': 1,\n",
       " 'be': 1,\n",
       " 'found': 1}"
      ]
     },
     "execution_count": 40,
     "metadata": {},
     "output_type": "execute_result"
    }
   ],
   "source": [
    "#get collections package from python\n",
    "\n",
    "#a_text is global frame\n",
    "a_text = 'In computing, a hash table hash map is a data structure which implements an associative array abstract data type, a structure that can map keys to values. A hash table uses a hash function to compute an index into an array of buckets or slots from which the desired value can be found'\n",
    "\n",
    "#func for counting words that outputs DICTIONARY --- words = key and valuw how many times word appears on string\n",
    "\n",
    "def word_count(alist):\n",
    "    new_list = alist.split(\" \")  #The Python split() method divides a string into a list.\n",
    "    new = {}                     #outputs dict \n",
    "    \n",
    "    for word in new_list:           #make a for loop to go through list \n",
    "        if word.lower() in new:     #if the word is in new dict\n",
    "            new[word.lower()] +=1   #check if word in dict and add word then move 1 in index\n",
    "        else:\n",
    "            new[word.lower()] = 1\n",
    "            \n",
    "    return new                       #return will STOP for loop  and return new list in dict once done\n",
    "\n",
    "word_count(a_text)\n",
    "\n",
    "\n"
   ]
  },
  {
   "cell_type": "markdown",
   "metadata": {},
   "source": [
    "## Exercise #3\n",
    "\n",
    "Write a program to implement a Linear Search Algorithm. Also in a comment, write the Time Complexity of the following algorithm.\n",
    "\n",
    "#### Hint: Linear Searching will require searching a list for a given number. "
   ]
  },
  {
   "cell_type": "code",
   "execution_count": 56,
   "metadata": {},
   "outputs": [
    {
     "name": "stdout",
     "output_type": "stream",
     "text": [
      "letter found at index: NOT IN INDEX\n"
     ]
    }
   ],
   "source": [
    "# start from left of list1 (array) and one at a time compare element \"x\" with each element of list1 (array)\n",
    "# if x matches anything in element, return index value\n",
    "# if it doesnt match with anything in list1, say not in index\n",
    "\n",
    "# Linear time complexity is 0(n)\n",
    "# Explanation of linear: \"the runtimes scale linearly with the number of elements that the list has, i.e. the maximum\n",
    "# number of elements that we have to look through to find the number we are searching for\"\n",
    "\n",
    "\n",
    "list1 = ['a','e','i','o','u','c','g']\n",
    "\n",
    "def linearsearch(list1, x):\n",
    "    for i in range(len(list1)):\n",
    "        if list1[i] == x:\n",
    "            return i\n",
    "    return(\": NOT IN INDEX\")\n",
    "x = 'm'\n",
    "print(\"letter found at index\" +str(linearsearch(list1,x)))\n"
   ]
  },
  {
   "cell_type": "code",
   "execution_count": null,
   "metadata": {},
   "outputs": [],
   "source": []
  },
  {
   "cell_type": "code",
   "execution_count": null,
   "metadata": {},
   "outputs": [],
   "source": []
  }
 ],
 "metadata": {
  "kernelspec": {
   "display_name": "Python 3",
   "language": "python",
   "name": "python3"
  },
  "language_info": {
   "codemirror_mode": {
    "name": "ipython",
    "version": 3
   },
   "file_extension": ".py",
   "mimetype": "text/x-python",
   "name": "python",
   "nbconvert_exporter": "python",
   "pygments_lexer": "ipython3",
   "version": "3.8.8"
  }
 },
 "nbformat": 4,
 "nbformat_minor": 2
}
